{
 "cells": [
  {
   "cell_type": "code",
   "execution_count": 1,
   "metadata": {},
   "outputs": [],
   "source": [
    "import pandas as pd\n",
    "import numpy as np\n",
    "import re\n",
    "import glob\n",
    "import geohash\n",
    "import json\n",
    "import collections as cl\n",
    "import datetime\n",
    "from tqdm import tqdm_notebook as tqdm"
   ]
  },
  {
   "cell_type": "code",
   "execution_count": null,
   "metadata": {},
   "outputs": [],
   "source": [
    "## ここから↓データの読み込み"
   ]
  },
  {
   "cell_type": "code",
   "execution_count": null,
   "metadata": {},
   "outputs": [],
   "source": [
    "def transform_from_dir(dir_name):\n",
    "    files = glob.glob(\"%s/*\" % dir_name)\n",
    "    for file in files:\n",
    "        extract_columns(file)\n",
    "        \n",
    "def extract_10_minutes_data(trajectory_data):\n",
    "    return trajectory_data[trajectory_data['time'].str.endswith('0:00')]\n",
    "\n",
    "def extract_columns(file_name):\n",
    "    print(file_name)\n",
    "    time_tokyo = pd.read_csv(file_name, header=None)\n",
    "    time_tokyo = time_tokyo.iloc[:, 3:6]\n",
    "    time_tokyo.columns = [\"time\", \"long\", \"lat\"]\n",
    "    time_tokyo = extract_10_minutes_data(time_tokyo)\n",
    "    time_tokyo.to_csv('./data/output.csv', mode='a', index=False, header=False)"
   ]
  },
  {
   "cell_type": "code",
   "execution_count": null,
   "metadata": {
    "scrolled": true
   },
   "outputs": [],
   "source": [
    "for i in range(24):\n",
    "    transform_from_dir(\"/Users/fumiyuki/Downloads/time-tokyo-%s\" % str(i + 1))"
   ]
  },
  {
   "cell_type": "code",
   "execution_count": null,
   "metadata": {},
   "outputs": [],
   "source": [
    "## ここから↓jsonにデータの書き込み"
   ]
  },
  {
   "cell_type": "code",
   "execution_count": null,
   "metadata": {},
   "outputs": [],
   "source": [
    "def encode_all_data(output_file_name, limit_num):\n",
    "    trajectory_data = pd.read_csv(output_file_name, header=None)\n",
    "    trajectory_data.columns = [\"time\", \"long\", \"lat\"]\n",
    "    \n",
    "    json_data = cl.OrderedDict()\n",
    "    data_list = []\n",
    "    count = 0\n",
    "    for index, row in tqdm(trajectory_data.iterrows()):\n",
    "        encoded_value = encode(row[\"time\"], row[\"lat\"], row[\"long\"])\n",
    "        data_list.append(encoded_value)\n",
    "        count += 1\n",
    "        if count == limit_num:\n",
    "            break\n",
    "    data_list.sort()\n",
    "    json_data[\"data\"] = data_list\n",
    "    now_timestamp = datetime.datetime.now().strftime(\"%Y%m%d%H%M%S\")\n",
    "    filename = './data/real-%s.json' % (now_timestamp)\n",
    "    with open(filename, 'w') as f:\n",
    "        json.dump(json_data, f, indent=None)"
   ]
  },
  {
   "cell_type": "code",
   "execution_count": null,
   "metadata": {},
   "outputs": [],
   "source": [
    "def timehash_encode(time):\n",
    "    return str(int(time[11:13])*6 + int(time[14])).zfill(4)\n",
    "\n",
    "def timehash_encode_for_1minute(time):\n",
    "    return str(int(time[11:13])*60 + int(time[14:16])).zfill(4)\n",
    "\n",
    "def encode(time, latitude, longtitude):\n",
    "    t_hash = timehash_encode(time)\n",
    "    g_hash = geohash.encode(latitude, longtitude, 9)\n",
    "    return g_hash + t_hash"
   ]
  },
  {
   "cell_type": "code",
   "execution_count": null,
   "metadata": {},
   "outputs": [],
   "source": [
    "encode_all_data('./data/output.csv', 1000000)"
   ]
  },
  {
   "cell_type": "code",
   "execution_count": null,
   "metadata": {},
   "outputs": [],
   "source": [
    "## クエリデータ"
   ]
  },
  {
   "cell_type": "code",
   "execution_count": 2,
   "metadata": {},
   "outputs": [],
   "source": [
    "def transform_from_dir(dir_name, id_data_list):\n",
    "    files = glob.glob(\"%s/*\" % dir_name)\n",
    "    for file in tqdm(files):\n",
    "        id_data = extract_columns(file)\n",
    "        count = len(id_data) // 144\n",
    "        for i in range(count):\n",
    "            id_data_list.append(id_data[i*144:(i+1)*144])\n",
    "    return id_data_list\n",
    "        \n",
    "def extract_10_minutes_data(trajectory_data):\n",
    "    return trajectory_data[trajectory_data['time'].str.endswith('0:00')]\n",
    "\n",
    "def extract_columns(file_name):\n",
    "    id_data = pd.read_csv(file_name, header=None)\n",
    "    id_data = id_data.iloc[:, [3,4,5]]\n",
    "    id_data.columns = [\"time\", \"long\", \"lat\"]\n",
    "    id_data = extract_10_minutes_data(id_data)\n",
    "    id_data = id_data.drop_duplicates(subset=[\"time\"])\n",
    "    if len(id_data) % 144 != 0:\n",
    "        print(file_name)\n",
    "        raise ValueError(\"id_data is not 144 muliplies\")\n",
    "    return id_data"
   ]
  },
  {
   "cell_type": "code",
   "execution_count": null,
   "metadata": {
    "scrolled": true
   },
   "outputs": [],
   "source": [
    "id_data_list = []\n",
    "for i in range(4):\n",
    "    transform_from_dir(\"/Users/fumiyuki/Downloads/tokyo-id-%s/data\" % str(i + 1), id_data_list)"
   ]
  },
  {
   "cell_type": "code",
   "execution_count": null,
   "metadata": {},
   "outputs": [],
   "source": [
    "def encode_all_data(data_list, client_limit):\n",
    "    current_id = 0\n",
    "    \n",
    "    json_data = cl.OrderedDict()\n",
    "    same_data = []\n",
    "    total_data_list = []\n",
    "    for i, id_data in tqdm(enumerate(data_list)):\n",
    "        same_data.append(id_data)\n",
    "        if (i+1) % 14 == 0:\n",
    "            encoded_list = []\n",
    "            flat = pd.concat(same_data)\n",
    "            assert(len(flat) == 2016)\n",
    "            for index, row in flat.iterrows():\n",
    "                encoded_value = encode(row[\"time\"], row[\"lat\"], row[\"long\"]).encode()\n",
    "                encoded_list.append(encoded_value)\n",
    "            value = { \"geodata\": b''.join(encoded_list).hex(), \"query_size\": len(flat), \"query_id\": current_id }\n",
    "            total_data_list.append(value)\n",
    "            same_data = []\n",
    "            current_id += 1\n",
    "        if current_id == client_limit:\n",
    "            break\n",
    "    \n",
    "    json_data[\"data\"] = total_data_list\n",
    "    json_data[\"client_size\"] = current_id\n",
    "    print(\"client size\", current_id)\n",
    "    \n",
    "    now_timestamp = datetime.datetime.now().strftime(\"%Y%m%d%H%M%S\")\n",
    "    filename = './data/client-%s-real-%s.json' % (str(client_limit), now_timestamp)\n",
    "    with open(filename, 'w') as f:\n",
    "        json.dump(json_data, f, indent=None)"
   ]
  },
  {
   "cell_type": "code",
   "execution_count": null,
   "metadata": {},
   "outputs": [],
   "source": [
    "encode_all_data(id_data_list, 6000)"
   ]
  },
  {
   "cell_type": "code",
   "execution_count": null,
   "metadata": {},
   "outputs": [],
   "source": [
    "# テスト"
   ]
  },
  {
   "cell_type": "code",
   "execution_count": null,
   "metadata": {},
   "outputs": [],
   "source": [
    "time_tokyo = pd.read_csv(f\"/Users/fumiyuki/Downloads/time-tokyo-1/08TKY_time_0000.csv\", header=None)\n",
    "time_tokyo = time_tokyo.iloc[:, 3:6]\n",
    "time_tokyo.columns = [\"time\", \"long\", \"lat\"]\n",
    "time_tokyo = extract_10_minutes_data(time_tokyo)\n",
    "time_tokyo[\"time\"][0]  = '2008-10-01 00:00:00'"
   ]
  }
 ],
 "metadata": {
  "kernelspec": {
   "display_name": "Python 3",
   "language": "python",
   "name": "python3"
  },
  "language_info": {
   "codemirror_mode": {
    "name": "ipython",
    "version": 3
   },
   "file_extension": ".py",
   "mimetype": "text/x-python",
   "name": "python",
   "nbconvert_exporter": "python",
   "pygments_lexer": "ipython3",
   "version": "3.8.2"
  }
 },
 "nbformat": 4,
 "nbformat_minor": 4
}
