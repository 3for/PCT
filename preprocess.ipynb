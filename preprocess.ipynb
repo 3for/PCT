{
 "cells": [
  {
   "cell_type": "code",
   "execution_count": 1,
   "metadata": {},
   "outputs": [],
   "source": [
    "import pandas as pd\n",
    "import numpy as np\n",
    "import re\n",
    "import glob\n",
    "import geohash\n",
    "import json\n",
    "import collections as cl\n",
    "import datetime\n",
    "from tqdm import tqdm_notebook as tqdm"
   ]
  },
  {
   "cell_type": "code",
   "execution_count": null,
   "metadata": {},
   "outputs": [],
   "source": [
    "## common function"
   ]
  },
  {
   "cell_type": "code",
   "execution_count": 2,
   "metadata": {},
   "outputs": [],
   "source": [
    "def timehash_encode(time):\n",
    "    return str(int(time[11:13])*6 + int(time[14])).zfill(4)\n",
    "\n",
    "def timehash_encode_for_1minute(time):\n",
    "    return str(int(time[11:13])*60 + int(time[14:16])).zfill(4)\n",
    "\n",
    "def encode(time, latitude, longtitude):\n",
    "    t_hash = timehash_encode_for_1minute(time)\n",
    "    g_hash = geohash.encode(latitude, longtitude, 10)\n",
    "    return g_hash + t_hash"
   ]
  },
  {
   "cell_type": "code",
   "execution_count": null,
   "metadata": {},
   "outputs": [],
   "source": [
    "## ここから↓データの読み込み"
   ]
  },
  {
   "cell_type": "code",
   "execution_count": null,
   "metadata": {},
   "outputs": [],
   "source": [
    "def transform_from_dir(dir_name, index, area):\n",
    "    files = glob.glob(\"%s/*\" % dir_name)\n",
    "    for file in files:\n",
    "        extract_columns(file, index, area)\n",
    "        \n",
    "def extract_10_minutes_data(trajectory_data):\n",
    "    return trajectory_data[trajectory_data['time'].str.endswith('0:00')]\n",
    "\n",
    "def extract_columns(file_name, index, area):\n",
    "    print(file_name)\n",
    "    time_tokyo = pd.read_csv(file_name, header=None)\n",
    "    time_tokyo = time_tokyo.query('index %% 10 == %s' % index)\n",
    "    time_tokyo = time_tokyo.iloc[:, 3:6]\n",
    "    time_tokyo.columns = [\"time\", \"long\", \"lat\"]\n",
    "    time_tokyo.drop_duplicates()\n",
    "    time_tokyo.to_csv('./data/output-1minute-%s-index-%s.csv' % (area, str(index)), mode='a', index=False, header=False)\n",
    "\n",
    "def encode_batch_data(trajectory_data_n, data_list):\n",
    "    trajectory_data_n.columns = [\"time\", \"long\", \"lat\"]\n",
    "    for index, row in tqdm(trajectory_data_n.iterrows()):\n",
    "        encoded_value = encode(row[\"time\"], row[\"lat\"], row[\"long\"])\n",
    "        data_list.append(encoded_value)\n",
    "    return True"
   ]
  },
  {
   "cell_type": "code",
   "execution_count": null,
   "metadata": {
    "scrolled": true
   },
   "outputs": [],
   "source": [
    "for index in range(10):\n",
    "    for i in range(24):\n",
    "        transform_from_dir(\"/Users/fumiyuki/Downloads/time-tokyo-%s\" % str(i + 1), index, 'tokyo')\n",
    "        transform_from_dir(\"/Users/fumiyuki/Downloads/time-kinki-%s\" % str(i + 1), index, 'kinki')"
   ]
  },
  {
   "cell_type": "code",
   "execution_count": null,
   "metadata": {
    "scrolled": false
   },
   "outputs": [],
   "source": [
    "data_list = []\n",
    "for index in range(1):\n",
    "    for area in [\"tokyo\", \"kinki\"]:\n",
    "        trajectory_data = pd.read_csv('./data/output-1minute-%s-index-%s.csv' % (area, str(index)), header=None)\n",
    "        trajectory_data = trajectory_data.drop_duplicates()\n",
    "        encode_batch_data(trajectory_data, data_list)"
   ]
  },
  {
   "cell_type": "code",
   "execution_count": null,
   "metadata": {},
   "outputs": [],
   "source": [
    "import pickle\n",
    "\n",
    "# with open('index-1.pickle', 'wb') as f:\n",
    "#     pickle.dump(data_list, f, pickle.HIGHEST_PROTOCOL)\n",
    "\n",
    "# with open('index-1.pickle', 'rb') as f:\n",
    "#     data_list = pickle.load(f)"
   ]
  },
  {
   "cell_type": "code",
   "execution_count": null,
   "metadata": {},
   "outputs": [],
   "source": [
    "## ここから↓jsonにデータの書き込み"
   ]
  },
  {
   "cell_type": "code",
   "execution_count": null,
   "metadata": {},
   "outputs": [],
   "source": [
    "def encode_all_data(data_list, limit_num):\n",
    "    data_list = data_list[:limit_num]\n",
    "    data_list.sort()\n",
    "    json_data = cl.OrderedDict()\n",
    "    json_data[\"data\"] = data_list\n",
    "    now_timestamp = datetime.datetime.now().strftime(\"%Y%m%d%H%M%S\")\n",
    "    filename = './data/central-geohash10-real-for-1minute-%s-%s.json' % (str(limit_num), now_timestamp)\n",
    "    with open(filename, 'w') as f:\n",
    "        json.dump(json_data, f, indent=None)\n",
    "        \n",
    "# def encode_all_data(output_file_name, limit_num):\n",
    "#     trajectory_data = pd.read_csv(output_file_name, header=None)\n",
    "#     trajectory_data.columns = [\"time\", \"long\", \"lat\"]\n",
    "    \n",
    "#     json_data = cl.OrderedDict()\n",
    "#     data_list = []\n",
    "#     count = 0\n",
    "#     for index, row in tqdm(trajectory_data.iterrows()):\n",
    "#         encoded_value = encode(row[\"time\"], row[\"lat\"], row[\"long\"])\n",
    "#         data_list.append(encoded_value)\n",
    "#         count += 1\n",
    "#         if count == limit_num:\n",
    "#             break\n",
    "#     data_list.sort()\n",
    "#     json_data[\"data\"] = data_list\n",
    "#     now_timestamp = datetime.datetime.now().strftime(\"%Y%m%d%H%M%S\")\n",
    "#     filename = './data/real-for-1minute-accum.json'\n",
    "#     with open(filename, 'w') as f:\n",
    "#         json.dump(json_data, f, indent=None)"
   ]
  },
  {
   "cell_type": "code",
   "execution_count": null,
   "metadata": {},
   "outputs": [],
   "source": [
    "encode_all_data(data_list, 100000000)"
   ]
  },
  {
   "cell_type": "code",
   "execution_count": null,
   "metadata": {},
   "outputs": [],
   "source": [
    "## クエリデータ"
   ]
  },
  {
   "cell_type": "code",
   "execution_count": 77,
   "metadata": {},
   "outputs": [],
   "source": [
    "def transform_from_dir(dir_name, id_data_list, current, batch_size):\n",
    "    files = glob.glob(\"%s/*\" % dir_name)\n",
    "    files.sort()\n",
    "    files = files[current:current+batch_size]\n",
    "    for file in tqdm(files):\n",
    "        id_data = extract_columns(file)\n",
    "        amari = 1440 - len(id_data)\n",
    "        if amari < 0:\n",
    "            if amari != -1440:\n",
    "                print(file)\n",
    "                continue\n",
    "        id_data = id_data.append(id_data.iloc[:amari])\n",
    "        length = len(id_data) // 1440\n",
    "        for i in range(length):\n",
    "            id_data_list.append(id_data[i*1440:(i+1)*1440])\n",
    "    return id_data_list\n",
    "        \n",
    "def extract_10_minutes_data(trajectory_data):\n",
    "    return trajectory_data[trajectory_data['time'].str.endswith('0:00')]\n",
    "\n",
    "def extract_columns(file_name):\n",
    "    id_data = pd.read_csv(file_name, header=None)\n",
    "    id_data = id_data.iloc[:, [3,4,5]]\n",
    "    id_data.columns = [\"time\", \"long\", \"lat\"]\n",
    "    id_data = id_data.drop_duplicates(subset=[\"time\"])\n",
    "#     if len(id_data) % 1440 != 0:\n",
    "#         print(file_name)\n",
    "#         raise ValueError(\"id_data is not 1440 muliplies\")\n",
    "    return id_data"
   ]
  },
  {
   "cell_type": "code",
   "execution_count": 89,
   "metadata": {
    "scrolled": true
   },
   "outputs": [
    {
     "name": "stderr",
     "output_type": "stream",
     "text": [
      "<ipython-input-77-c180e23d1efc>:5: TqdmDeprecationWarning: This function will be removed in tqdm==5.0.0\n",
      "Please use `tqdm.notebook.tqdm` instead of `tqdm.tqdm_notebook`\n",
      "  for file in tqdm(files):\n"
     ]
    },
    {
     "data": {
      "application/vnd.jupyter.widget-view+json": {
       "model_id": "17ac62ea1509486fb3c60c9210430e73",
       "version_major": 2,
       "version_minor": 0
      },
      "text/plain": [
       "HBox(children=(FloatProgress(value=0.0, max=250.0), HTML(value='')))"
      ]
     },
     "metadata": {},
     "output_type": "display_data"
    },
    {
     "name": "stdout",
     "output_type": "stream",
     "text": [
      "/Users/fumiyuki/Downloads/kinki-id-1/00000204.csv\n",
      "\n"
     ]
    },
    {
     "data": {
      "application/vnd.jupyter.widget-view+json": {
       "model_id": "ac66ad00606e4108a2b92c93f96ff353",
       "version_major": 2,
       "version_minor": 0
      },
      "text/plain": [
       "HBox(children=(FloatProgress(value=0.0, max=250.0), HTML(value='')))"
      ]
     },
     "metadata": {},
     "output_type": "display_data"
    },
    {
     "name": "stdout",
     "output_type": "stream",
     "text": [
      "\n"
     ]
    },
    {
     "data": {
      "application/vnd.jupyter.widget-view+json": {
       "model_id": "3b4086f691f9487891ae688e16039a1d",
       "version_major": 2,
       "version_minor": 0
      },
      "text/plain": [
       "HBox(children=(FloatProgress(value=0.0, max=250.0), HTML(value='')))"
      ]
     },
     "metadata": {},
     "output_type": "display_data"
    },
    {
     "name": "stdout",
     "output_type": "stream",
     "text": [
      "/Users/fumiyuki/Downloads/kinki-id-1/00000592.csv\n",
      "/Users/fumiyuki/Downloads/kinki-id-1/00000593.csv\n",
      "/Users/fumiyuki/Downloads/kinki-id-1/00000594.csv\n",
      "/Users/fumiyuki/Downloads/kinki-id-1/00000595.csv\n",
      "/Users/fumiyuki/Downloads/kinki-id-1/00000596.csv\n",
      "/Users/fumiyuki/Downloads/kinki-id-1/00000597.csv\n",
      "/Users/fumiyuki/Downloads/kinki-id-1/00000598.csv\n",
      "/Users/fumiyuki/Downloads/kinki-id-1/00000599.csv\n",
      "/Users/fumiyuki/Downloads/kinki-id-1/00000600.csv\n",
      "/Users/fumiyuki/Downloads/kinki-id-1/00000601.csv\n",
      "/Users/fumiyuki/Downloads/kinki-id-1/00000602.csv\n",
      "/Users/fumiyuki/Downloads/kinki-id-1/00000603.csv\n",
      "/Users/fumiyuki/Downloads/kinki-id-1/00000604.csv\n",
      "/Users/fumiyuki/Downloads/kinki-id-1/00000605.csv\n",
      "/Users/fumiyuki/Downloads/kinki-id-1/00000606.csv\n",
      "/Users/fumiyuki/Downloads/kinki-id-1/00000607.csv\n",
      "/Users/fumiyuki/Downloads/kinki-id-1/00000608.csv\n",
      "/Users/fumiyuki/Downloads/kinki-id-1/00000609.csv\n",
      "/Users/fumiyuki/Downloads/kinki-id-1/00000610.csv\n",
      "/Users/fumiyuki/Downloads/kinki-id-1/00000611.csv\n",
      "/Users/fumiyuki/Downloads/kinki-id-1/00000612.csv\n",
      "/Users/fumiyuki/Downloads/kinki-id-1/00000613.csv\n",
      "/Users/fumiyuki/Downloads/kinki-id-1/00000614.csv\n",
      "/Users/fumiyuki/Downloads/kinki-id-1/00000615.csv\n",
      "/Users/fumiyuki/Downloads/kinki-id-1/00000616.csv\n",
      "\n"
     ]
    },
    {
     "data": {
      "application/vnd.jupyter.widget-view+json": {
       "model_id": "ae2d178752f149c590c75a117f99cc32",
       "version_major": 2,
       "version_minor": 0
      },
      "text/plain": [
       "HBox(children=(FloatProgress(value=0.0, max=250.0), HTML(value='')))"
      ]
     },
     "metadata": {},
     "output_type": "display_data"
    },
    {
     "name": "stdout",
     "output_type": "stream",
     "text": [
      "\n"
     ]
    },
    {
     "data": {
      "application/vnd.jupyter.widget-view+json": {
       "model_id": "426558073f024ea3b5a4b00432b6daf1",
       "version_major": 2,
       "version_minor": 0
      },
      "text/plain": [
       "HBox(children=(FloatProgress(value=0.0, max=250.0), HTML(value='')))"
      ]
     },
     "metadata": {},
     "output_type": "display_data"
    },
    {
     "name": "stdout",
     "output_type": "stream",
     "text": [
      "\n"
     ]
    },
    {
     "data": {
      "application/vnd.jupyter.widget-view+json": {
       "model_id": "38385fb7061f46bf91764e427e6cbdbf",
       "version_major": 2,
       "version_minor": 0
      },
      "text/plain": [
       "HBox(children=(FloatProgress(value=0.0, max=250.0), HTML(value='')))"
      ]
     },
     "metadata": {},
     "output_type": "display_data"
    },
    {
     "name": "stdout",
     "output_type": "stream",
     "text": [
      "\n"
     ]
    },
    {
     "data": {
      "application/vnd.jupyter.widget-view+json": {
       "model_id": "4204da82e25f495bba033542a2f02a30",
       "version_major": 2,
       "version_minor": 0
      },
      "text/plain": [
       "HBox(children=(FloatProgress(value=0.0, max=250.0), HTML(value='')))"
      ]
     },
     "metadata": {},
     "output_type": "display_data"
    },
    {
     "name": "stdout",
     "output_type": "stream",
     "text": [
      "/Users/fumiyuki/Downloads/kinki-id-1/00001717.csv\n",
      "\n"
     ]
    },
    {
     "data": {
      "application/vnd.jupyter.widget-view+json": {
       "model_id": "391126041c3540528341fac667c5c3ce",
       "version_major": 2,
       "version_minor": 0
      },
      "text/plain": [
       "HBox(children=(FloatProgress(value=0.0, max=250.0), HTML(value='')))"
      ]
     },
     "metadata": {},
     "output_type": "display_data"
    },
    {
     "name": "stdout",
     "output_type": "stream",
     "text": [
      "\n"
     ]
    },
    {
     "data": {
      "application/vnd.jupyter.widget-view+json": {
       "model_id": "3c706dee9aa1468c93d2d62ad60fff78",
       "version_major": 2,
       "version_minor": 0
      },
      "text/plain": [
       "HBox(children=(FloatProgress(value=0.0, max=250.0), HTML(value='')))"
      ]
     },
     "metadata": {},
     "output_type": "display_data"
    },
    {
     "name": "stdout",
     "output_type": "stream",
     "text": [
      "/Users/fumiyuki/Downloads/kinki-id-1/00002092.csv\n",
      "\n"
     ]
    },
    {
     "data": {
      "application/vnd.jupyter.widget-view+json": {
       "model_id": "0ce74f0a3f71464c898d70cfce79626c",
       "version_major": 2,
       "version_minor": 0
      },
      "text/plain": [
       "HBox(children=(FloatProgress(value=0.0, max=250.0), HTML(value='')))"
      ]
     },
     "metadata": {},
     "output_type": "display_data"
    },
    {
     "name": "stdout",
     "output_type": "stream",
     "text": [
      "\n"
     ]
    },
    {
     "data": {
      "application/vnd.jupyter.widget-view+json": {
       "model_id": "995eaa9602744fcc921b903ecf2f4046",
       "version_major": 2,
       "version_minor": 0
      },
      "text/plain": [
       "HBox(children=(FloatProgress(value=0.0, max=250.0), HTML(value='')))"
      ]
     },
     "metadata": {},
     "output_type": "display_data"
    },
    {
     "name": "stdout",
     "output_type": "stream",
     "text": [
      "/Users/fumiyuki/Downloads/kinki-id-1/00002698.csv\n",
      "/Users/fumiyuki/Downloads/kinki-id-1/00002699.csv\n",
      "/Users/fumiyuki/Downloads/kinki-id-1/00002700.csv\n",
      "/Users/fumiyuki/Downloads/kinki-id-1/00002701.csv\n",
      "/Users/fumiyuki/Downloads/kinki-id-1/00002702.csv\n",
      "/Users/fumiyuki/Downloads/kinki-id-1/00002703.csv\n",
      "/Users/fumiyuki/Downloads/kinki-id-1/00002704.csv\n",
      "/Users/fumiyuki/Downloads/kinki-id-1/00002705.csv\n",
      "/Users/fumiyuki/Downloads/kinki-id-1/00002706.csv\n",
      "/Users/fumiyuki/Downloads/kinki-id-1/00002707.csv\n",
      "/Users/fumiyuki/Downloads/kinki-id-1/00002708.csv\n",
      "/Users/fumiyuki/Downloads/kinki-id-1/00002709.csv\n",
      "/Users/fumiyuki/Downloads/kinki-id-1/00002710.csv\n",
      "/Users/fumiyuki/Downloads/kinki-id-1/00002711.csv\n",
      "\n"
     ]
    },
    {
     "data": {
      "application/vnd.jupyter.widget-view+json": {
       "model_id": "0f8a9bebdf1e4ed897c84b72d7c60b7e",
       "version_major": 2,
       "version_minor": 0
      },
      "text/plain": [
       "HBox(children=(FloatProgress(value=0.0, max=250.0), HTML(value='')))"
      ]
     },
     "metadata": {},
     "output_type": "display_data"
    },
    {
     "name": "stdout",
     "output_type": "stream",
     "text": [
      "\n"
     ]
    },
    {
     "data": {
      "application/vnd.jupyter.widget-view+json": {
       "model_id": "62ab90123bdd4358bd9c8ac0ca3c45a6",
       "version_major": 2,
       "version_minor": 0
      },
      "text/plain": [
       "HBox(children=(FloatProgress(value=0.0, max=250.0), HTML(value='')))"
      ]
     },
     "metadata": {},
     "output_type": "display_data"
    },
    {
     "name": "stdout",
     "output_type": "stream",
     "text": [
      "\n"
     ]
    },
    {
     "data": {
      "application/vnd.jupyter.widget-view+json": {
       "model_id": "31c6a4ce2ef5444c90d2e33d812c7cc4",
       "version_major": 2,
       "version_minor": 0
      },
      "text/plain": [
       "HBox(children=(FloatProgress(value=0.0, max=250.0), HTML(value='')))"
      ]
     },
     "metadata": {},
     "output_type": "display_data"
    },
    {
     "name": "stdout",
     "output_type": "stream",
     "text": [
      "\n"
     ]
    },
    {
     "data": {
      "application/vnd.jupyter.widget-view+json": {
       "model_id": "67ad453ae4d14bda8ed0b892c53ab799",
       "version_major": 2,
       "version_minor": 0
      },
      "text/plain": [
       "HBox(children=(FloatProgress(value=0.0, max=250.0), HTML(value='')))"
      ]
     },
     "metadata": {},
     "output_type": "display_data"
    },
    {
     "name": "stdout",
     "output_type": "stream",
     "text": [
      "/Users/fumiyuki/Downloads/kinki-id-1/00003670.csv\n",
      "/Users/fumiyuki/Downloads/kinki-id-1/00003673.csv\n",
      "/Users/fumiyuki/Downloads/kinki-id-1/00003675.csv\n",
      "/Users/fumiyuki/Downloads/kinki-id-1/00003678.csv\n",
      "/Users/fumiyuki/Downloads/kinki-id-1/00003683.csv\n",
      "/Users/fumiyuki/Downloads/kinki-id-1/00003693.csv\n",
      "/Users/fumiyuki/Downloads/kinki-id-1/00003746.csv\n",
      "/Users/fumiyuki/Downloads/kinki-id-1/00003748.csv\n",
      "/Users/fumiyuki/Downloads/kinki-id-1/00003749.csv\n",
      "/Users/fumiyuki/Downloads/kinki-id-1/00003750.csv\n",
      "/Users/fumiyuki/Downloads/kinki-id-1/00003751.csv\n",
      "/Users/fumiyuki/Downloads/kinki-id-1/00003752.csv\n",
      "/Users/fumiyuki/Downloads/kinki-id-1/00003753.csv\n",
      "/Users/fumiyuki/Downloads/kinki-id-1/00003754.csv\n",
      "\n"
     ]
    },
    {
     "data": {
      "application/vnd.jupyter.widget-view+json": {
       "model_id": "01baef5252a949ea9180d88f2d2da443",
       "version_major": 2,
       "version_minor": 0
      },
      "text/plain": [
       "HBox(children=(FloatProgress(value=0.0, max=250.0), HTML(value='')))"
      ]
     },
     "metadata": {},
     "output_type": "display_data"
    },
    {
     "name": "stdout",
     "output_type": "stream",
     "text": [
      "\n"
     ]
    },
    {
     "data": {
      "application/vnd.jupyter.widget-view+json": {
       "model_id": "57d63ddada5e44348e6f064eeddab6f4",
       "version_major": 2,
       "version_minor": 0
      },
      "text/plain": [
       "HBox(children=(FloatProgress(value=0.0, max=250.0), HTML(value='')))"
      ]
     },
     "metadata": {},
     "output_type": "display_data"
    },
    {
     "name": "stdout",
     "output_type": "stream",
     "text": [
      "/Users/fumiyuki/Downloads/kinki-id-1/00004209.csv\n",
      "\n"
     ]
    },
    {
     "data": {
      "application/vnd.jupyter.widget-view+json": {
       "model_id": "28b8bd1ce9fa422580b6722ddd22f5dd",
       "version_major": 2,
       "version_minor": 0
      },
      "text/plain": [
       "HBox(children=(FloatProgress(value=0.0, max=250.0), HTML(value='')))"
      ]
     },
     "metadata": {},
     "output_type": "display_data"
    },
    {
     "name": "stdout",
     "output_type": "stream",
     "text": [
      "\n"
     ]
    },
    {
     "data": {
      "application/vnd.jupyter.widget-view+json": {
       "model_id": "80904aa31b0a4512af63cab745b1f2a8",
       "version_major": 2,
       "version_minor": 0
      },
      "text/plain": [
       "HBox(children=(FloatProgress(value=0.0, max=250.0), HTML(value='')))"
      ]
     },
     "metadata": {},
     "output_type": "display_data"
    },
    {
     "name": "stdout",
     "output_type": "stream",
     "text": [
      "\n"
     ]
    },
    {
     "data": {
      "application/vnd.jupyter.widget-view+json": {
       "model_id": "84336ab053cb44e1a9bbd69e11dad615",
       "version_major": 2,
       "version_minor": 0
      },
      "text/plain": [
       "HBox(children=(FloatProgress(value=0.0, max=250.0), HTML(value='')))"
      ]
     },
     "metadata": {},
     "output_type": "display_data"
    },
    {
     "name": "stdout",
     "output_type": "stream",
     "text": [
      "/Users/fumiyuki/Downloads/kinki-id-1/00005003.csv\n",
      "\n"
     ]
    },
    {
     "data": {
      "application/vnd.jupyter.widget-view+json": {
       "model_id": "3a28d7df3a9f4b669d25fa4fade2c539",
       "version_major": 2,
       "version_minor": 0
      },
      "text/plain": [
       "HBox(children=(FloatProgress(value=0.0, max=250.0), HTML(value='')))"
      ]
     },
     "metadata": {},
     "output_type": "display_data"
    },
    {
     "name": "stdout",
     "output_type": "stream",
     "text": [
      "\n"
     ]
    },
    {
     "data": {
      "application/vnd.jupyter.widget-view+json": {
       "model_id": "b04fbfa769564cd7bfd4c367941f6bc5",
       "version_major": 2,
       "version_minor": 0
      },
      "text/plain": [
       "HBox(children=(FloatProgress(value=0.0, max=250.0), HTML(value='')))"
      ]
     },
     "metadata": {},
     "output_type": "display_data"
    },
    {
     "name": "stdout",
     "output_type": "stream",
     "text": [
      "/Users/fumiyuki/Downloads/kinki-id-1/00005323.csv\n",
      "/Users/fumiyuki/Downloads/kinki-id-1/00005326.csv\n",
      "/Users/fumiyuki/Downloads/kinki-id-1/00005327.csv\n",
      "/Users/fumiyuki/Downloads/kinki-id-1/00005328.csv\n",
      "\n"
     ]
    },
    {
     "data": {
      "application/vnd.jupyter.widget-view+json": {
       "model_id": "f235d67d94ad4e36b27456e089c37d81",
       "version_major": 2,
       "version_minor": 0
      },
      "text/plain": [
       "HBox(children=(FloatProgress(value=0.0, max=250.0), HTML(value='')))"
      ]
     },
     "metadata": {},
     "output_type": "display_data"
    },
    {
     "name": "stdout",
     "output_type": "stream",
     "text": [
      "/Users/fumiyuki/Downloads/kinki-id-1/00005734.csv\n",
      "\n"
     ]
    },
    {
     "data": {
      "application/vnd.jupyter.widget-view+json": {
       "model_id": "8f4c09544417475c947fc85f16a071b0",
       "version_major": 2,
       "version_minor": 0
      },
      "text/plain": [
       "HBox(children=(FloatProgress(value=0.0, max=250.0), HTML(value='')))"
      ]
     },
     "metadata": {},
     "output_type": "display_data"
    },
    {
     "name": "stdout",
     "output_type": "stream",
     "text": [
      "/Users/fumiyuki/Downloads/kinki-id-1/00005823.csv\n",
      "/Users/fumiyuki/Downloads/kinki-id-1/00005824.csv\n",
      "/Users/fumiyuki/Downloads/kinki-id-1/00005825.csv\n",
      "/Users/fumiyuki/Downloads/kinki-id-1/00005826.csv\n",
      "/Users/fumiyuki/Downloads/kinki-id-1/00005827.csv\n",
      "/Users/fumiyuki/Downloads/kinki-id-1/00005828.csv\n",
      "/Users/fumiyuki/Downloads/kinki-id-1/00005829.csv\n",
      "/Users/fumiyuki/Downloads/kinki-id-1/00005830.csv\n",
      "/Users/fumiyuki/Downloads/kinki-id-1/00005831.csv\n",
      "/Users/fumiyuki/Downloads/kinki-id-1/00005832.csv\n",
      "/Users/fumiyuki/Downloads/kinki-id-1/00005833.csv\n",
      "/Users/fumiyuki/Downloads/kinki-id-1/00005834.csv\n",
      "/Users/fumiyuki/Downloads/kinki-id-1/00005835.csv\n",
      "/Users/fumiyuki/Downloads/kinki-id-1/00005836.csv\n",
      "/Users/fumiyuki/Downloads/kinki-id-1/00005837.csv\n",
      "/Users/fumiyuki/Downloads/kinki-id-1/00005838.csv\n",
      "/Users/fumiyuki/Downloads/kinki-id-1/00005839.csv\n",
      "/Users/fumiyuki/Downloads/kinki-id-1/00005840.csv\n",
      "/Users/fumiyuki/Downloads/kinki-id-1/00005841.csv\n",
      "/Users/fumiyuki/Downloads/kinki-id-1/00005842.csv\n",
      "/Users/fumiyuki/Downloads/kinki-id-1/00005843.csv\n",
      "/Users/fumiyuki/Downloads/kinki-id-1/00005844.csv\n",
      "/Users/fumiyuki/Downloads/kinki-id-1/00005845.csv\n",
      "/Users/fumiyuki/Downloads/kinki-id-1/00005846.csv\n",
      "/Users/fumiyuki/Downloads/kinki-id-1/00005847.csv\n",
      "/Users/fumiyuki/Downloads/kinki-id-1/00005848.csv\n",
      "/Users/fumiyuki/Downloads/kinki-id-1/00005849.csv\n",
      "/Users/fumiyuki/Downloads/kinki-id-1/00005850.csv\n",
      "/Users/fumiyuki/Downloads/kinki-id-1/00005851.csv\n",
      "\n"
     ]
    },
    {
     "data": {
      "application/vnd.jupyter.widget-view+json": {
       "model_id": "638f8200c1714603acdd870eb438343d",
       "version_major": 2,
       "version_minor": 0
      },
      "text/plain": [
       "HBox(children=(FloatProgress(value=0.0, max=250.0), HTML(value='')))"
      ]
     },
     "metadata": {},
     "output_type": "display_data"
    },
    {
     "name": "stdout",
     "output_type": "stream",
     "text": [
      "/Users/fumiyuki/Downloads/kinki-id-1/00006130.csv\n",
      "/Users/fumiyuki/Downloads/kinki-id-1/00006132.csv\n",
      "/Users/fumiyuki/Downloads/kinki-id-1/00006134.csv\n",
      "\n"
     ]
    },
    {
     "data": {
      "application/vnd.jupyter.widget-view+json": {
       "model_id": "597aee93bf34429ab4dd23e4c723292c",
       "version_major": 2,
       "version_minor": 0
      },
      "text/plain": [
       "HBox(children=(FloatProgress(value=0.0, max=250.0), HTML(value='')))"
      ]
     },
     "metadata": {},
     "output_type": "display_data"
    },
    {
     "name": "stdout",
     "output_type": "stream",
     "text": [
      "\n"
     ]
    },
    {
     "data": {
      "application/vnd.jupyter.widget-view+json": {
       "model_id": "115b8771968c4d15be3fed2d0d200fa4",
       "version_major": 2,
       "version_minor": 0
      },
      "text/plain": [
       "HBox(children=(FloatProgress(value=0.0, max=250.0), HTML(value='')))"
      ]
     },
     "metadata": {},
     "output_type": "display_data"
    },
    {
     "name": "stdout",
     "output_type": "stream",
     "text": [
      "\n"
     ]
    },
    {
     "data": {
      "application/vnd.jupyter.widget-view+json": {
       "model_id": "db5090dbab6c40c7bae0a73c65ed2d62",
       "version_major": 2,
       "version_minor": 0
      },
      "text/plain": [
       "HBox(children=(FloatProgress(value=0.0, max=250.0), HTML(value='')))"
      ]
     },
     "metadata": {},
     "output_type": "display_data"
    },
    {
     "name": "stdout",
     "output_type": "stream",
     "text": [
      "\n"
     ]
    },
    {
     "data": {
      "application/vnd.jupyter.widget-view+json": {
       "model_id": "9cbb2484ea8844de9d1281b4eb11ed91",
       "version_major": 2,
       "version_minor": 0
      },
      "text/plain": [
       "HBox(children=(FloatProgress(value=0.0, max=250.0), HTML(value='')))"
      ]
     },
     "metadata": {},
     "output_type": "display_data"
    },
    {
     "name": "stdout",
     "output_type": "stream",
     "text": [
      "\n"
     ]
    },
    {
     "data": {
      "application/vnd.jupyter.widget-view+json": {
       "model_id": "cfa8827035774fbfa6e135191605e778",
       "version_major": 2,
       "version_minor": 0
      },
      "text/plain": [
       "HBox(children=(FloatProgress(value=0.0, max=250.0), HTML(value='')))"
      ]
     },
     "metadata": {},
     "output_type": "display_data"
    },
    {
     "name": "stdout",
     "output_type": "stream",
     "text": [
      "\n"
     ]
    },
    {
     "data": {
      "application/vnd.jupyter.widget-view+json": {
       "model_id": "5b2bb78102cd46ea97e9ec10b84cb7a5",
       "version_major": 2,
       "version_minor": 0
      },
      "text/plain": [
       "HBox(children=(FloatProgress(value=0.0, max=250.0), HTML(value='')))"
      ]
     },
     "metadata": {},
     "output_type": "display_data"
    },
    {
     "name": "stdout",
     "output_type": "stream",
     "text": [
      "\n"
     ]
    },
    {
     "data": {
      "application/vnd.jupyter.widget-view+json": {
       "model_id": "4603b842294d4eca913f44d14b0510c9",
       "version_major": 2,
       "version_minor": 0
      },
      "text/plain": [
       "HBox(children=(FloatProgress(value=0.0, max=250.0), HTML(value='')))"
      ]
     },
     "metadata": {},
     "output_type": "display_data"
    },
    {
     "name": "stdout",
     "output_type": "stream",
     "text": [
      "/Users/fumiyuki/Downloads/kinki-id-1/00007970.csv\n",
      "\n"
     ]
    },
    {
     "data": {
      "application/vnd.jupyter.widget-view+json": {
       "model_id": "91ef4f6cbe8144b8b316a713e625df89",
       "version_major": 2,
       "version_minor": 0
      },
      "text/plain": [
       "HBox(children=(FloatProgress(value=0.0, max=250.0), HTML(value='')))"
      ]
     },
     "metadata": {},
     "output_type": "display_data"
    },
    {
     "name": "stdout",
     "output_type": "stream",
     "text": [
      "\n"
     ]
    },
    {
     "data": {
      "application/vnd.jupyter.widget-view+json": {
       "model_id": "1744d79c04a246a0b7d185bf03c7b607",
       "version_major": 2,
       "version_minor": 0
      },
      "text/plain": [
       "HBox(children=(FloatProgress(value=0.0, max=250.0), HTML(value='')))"
      ]
     },
     "metadata": {},
     "output_type": "display_data"
    },
    {
     "name": "stdout",
     "output_type": "stream",
     "text": [
      "/Users/fumiyuki/Downloads/kinki-id-1/00008309.csv\n",
      "/Users/fumiyuki/Downloads/kinki-id-1/00008325.csv\n",
      "/Users/fumiyuki/Downloads/kinki-id-1/00008332.csv\n",
      "/Users/fumiyuki/Downloads/kinki-id-1/00008334.csv\n",
      "/Users/fumiyuki/Downloads/kinki-id-1/00008335.csv\n",
      "/Users/fumiyuki/Downloads/kinki-id-1/00008336.csv\n",
      "/Users/fumiyuki/Downloads/kinki-id-1/00008337.csv\n",
      "\n"
     ]
    },
    {
     "data": {
      "application/vnd.jupyter.widget-view+json": {
       "model_id": "290e6d00042845b2b8d3f371ea653eff",
       "version_major": 2,
       "version_minor": 0
      },
      "text/plain": [
       "HBox(children=(FloatProgress(value=0.0, max=250.0), HTML(value='')))"
      ]
     },
     "metadata": {},
     "output_type": "display_data"
    },
    {
     "name": "stdout",
     "output_type": "stream",
     "text": [
      "\n"
     ]
    },
    {
     "data": {
      "application/vnd.jupyter.widget-view+json": {
       "model_id": "79af050167be4052bd83ba1a31e962d4",
       "version_major": 2,
       "version_minor": 0
      },
      "text/plain": [
       "HBox(children=(FloatProgress(value=0.0, max=250.0), HTML(value='')))"
      ]
     },
     "metadata": {},
     "output_type": "display_data"
    },
    {
     "name": "stdout",
     "output_type": "stream",
     "text": [
      "/Users/fumiyuki/Downloads/kinki-id-1/00008791.csv\n",
      "\n"
     ]
    },
    {
     "data": {
      "application/vnd.jupyter.widget-view+json": {
       "model_id": "f2a4412f137b464f951837069b9c6576",
       "version_major": 2,
       "version_minor": 0
      },
      "text/plain": [
       "HBox(children=(FloatProgress(value=0.0, max=250.0), HTML(value='')))"
      ]
     },
     "metadata": {},
     "output_type": "display_data"
    },
    {
     "name": "stdout",
     "output_type": "stream",
     "text": [
      "/Users/fumiyuki/Downloads/kinki-id-1/00009288.csv\n",
      "\n"
     ]
    },
    {
     "data": {
      "application/vnd.jupyter.widget-view+json": {
       "model_id": "b12913c669fa4cb1a403a2ee3c757bd2",
       "version_major": 2,
       "version_minor": 0
      },
      "text/plain": [
       "HBox(children=(FloatProgress(value=0.0, max=250.0), HTML(value='')))"
      ]
     },
     "metadata": {},
     "output_type": "display_data"
    },
    {
     "name": "stdout",
     "output_type": "stream",
     "text": [
      "/Users/fumiyuki/Downloads/kinki-id-1/00009297.csv\n",
      "/Users/fumiyuki/Downloads/kinki-id-1/00009429.csv\n",
      "\n"
     ]
    },
    {
     "data": {
      "application/vnd.jupyter.widget-view+json": {
       "model_id": "951c247872094b42af83f5c50759815d",
       "version_major": 2,
       "version_minor": 0
      },
      "text/plain": [
       "HBox(children=(FloatProgress(value=0.0, max=250.0), HTML(value='')))"
      ]
     },
     "metadata": {},
     "output_type": "display_data"
    },
    {
     "name": "stdout",
     "output_type": "stream",
     "text": [
      "\n"
     ]
    },
    {
     "data": {
      "application/vnd.jupyter.widget-view+json": {
       "model_id": "37e3bee1ade142a48395d12bf67cfd42",
       "version_major": 2,
       "version_minor": 0
      },
      "text/plain": [
       "HBox(children=(FloatProgress(value=0.0, max=250.0), HTML(value='')))"
      ]
     },
     "metadata": {},
     "output_type": "display_data"
    },
    {
     "name": "stdout",
     "output_type": "stream",
     "text": [
      "\n"
     ]
    },
    {
     "data": {
      "application/vnd.jupyter.widget-view+json": {
       "model_id": "5913f4a6efda4d3aa5c4825b1af70011",
       "version_major": 2,
       "version_minor": 0
      },
      "text/plain": [
       "HBox(children=(FloatProgress(value=0.0, max=250.0), HTML(value='')))"
      ]
     },
     "metadata": {},
     "output_type": "display_data"
    },
    {
     "name": "stdout",
     "output_type": "stream",
     "text": [
      "\n"
     ]
    },
    {
     "data": {
      "application/vnd.jupyter.widget-view+json": {
       "model_id": "f153cf4cccf140b3ad76887edebb9d4f",
       "version_major": 2,
       "version_minor": 0
      },
      "text/plain": [
       "HBox(children=(FloatProgress(value=0.0, max=250.0), HTML(value='')))"
      ]
     },
     "metadata": {},
     "output_type": "display_data"
    },
    {
     "name": "stdout",
     "output_type": "stream",
     "text": [
      "\n"
     ]
    },
    {
     "data": {
      "application/vnd.jupyter.widget-view+json": {
       "model_id": "5ac054125c4a415d85f8846d1c4006e8",
       "version_major": 2,
       "version_minor": 0
      },
      "text/plain": [
       "HBox(children=(FloatProgress(value=0.0, max=250.0), HTML(value='')))"
      ]
     },
     "metadata": {},
     "output_type": "display_data"
    },
    {
     "name": "stdout",
     "output_type": "stream",
     "text": [
      "/Users/fumiyuki/Downloads/kinki-id-2/00100677.csv\n",
      "\n"
     ]
    },
    {
     "data": {
      "application/vnd.jupyter.widget-view+json": {
       "model_id": "7b3dda2df446428b8b247bcee6a29642",
       "version_major": 2,
       "version_minor": 0
      },
      "text/plain": [
       "HBox(children=(FloatProgress(value=0.0, max=250.0), HTML(value='')))"
      ]
     },
     "metadata": {},
     "output_type": "display_data"
    },
    {
     "name": "stdout",
     "output_type": "stream",
     "text": [
      "/Users/fumiyuki/Downloads/kinki-id-2/00100924.csv\n",
      "/Users/fumiyuki/Downloads/kinki-id-2/00100926.csv\n",
      "/Users/fumiyuki/Downloads/kinki-id-2/00100978.csv\n",
      "/Users/fumiyuki/Downloads/kinki-id-2/00100980.csv\n",
      "\n"
     ]
    },
    {
     "data": {
      "application/vnd.jupyter.widget-view+json": {
       "model_id": "be7b560cf814430797ac8bf0a1006533",
       "version_major": 2,
       "version_minor": 0
      },
      "text/plain": [
       "HBox(children=(FloatProgress(value=0.0, max=250.0), HTML(value='')))"
      ]
     },
     "metadata": {},
     "output_type": "display_data"
    },
    {
     "name": "stdout",
     "output_type": "stream",
     "text": [
      "\n"
     ]
    },
    {
     "data": {
      "application/vnd.jupyter.widget-view+json": {
       "model_id": "3c35ced20f5c4cff890b7f0344614bbd",
       "version_major": 2,
       "version_minor": 0
      },
      "text/plain": [
       "HBox(children=(FloatProgress(value=0.0, max=250.0), HTML(value='')))"
      ]
     },
     "metadata": {},
     "output_type": "display_data"
    },
    {
     "name": "stdout",
     "output_type": "stream",
     "text": [
      "\n"
     ]
    },
    {
     "data": {
      "application/vnd.jupyter.widget-view+json": {
       "model_id": "d2bc06bb9dc842b68a2114ddde00d83d",
       "version_major": 2,
       "version_minor": 0
      },
      "text/plain": [
       "HBox(children=(FloatProgress(value=0.0, max=250.0), HTML(value='')))"
      ]
     },
     "metadata": {},
     "output_type": "display_data"
    },
    {
     "name": "stdout",
     "output_type": "stream",
     "text": [
      "\n"
     ]
    },
    {
     "data": {
      "application/vnd.jupyter.widget-view+json": {
       "model_id": "2198d7947ce045088758119aa77b3e90",
       "version_major": 2,
       "version_minor": 0
      },
      "text/plain": [
       "HBox(children=(FloatProgress(value=0.0, max=250.0), HTML(value='')))"
      ]
     },
     "metadata": {},
     "output_type": "display_data"
    },
    {
     "name": "stdout",
     "output_type": "stream",
     "text": [
      "\n"
     ]
    },
    {
     "data": {
      "application/vnd.jupyter.widget-view+json": {
       "model_id": "9b251ac7fbc74f1cbd4240fdccbe29a2",
       "version_major": 2,
       "version_minor": 0
      },
      "text/plain": [
       "HBox(children=(FloatProgress(value=0.0, max=250.0), HTML(value='')))"
      ]
     },
     "metadata": {},
     "output_type": "display_data"
    },
    {
     "name": "stdout",
     "output_type": "stream",
     "text": [
      "\n"
     ]
    },
    {
     "data": {
      "application/vnd.jupyter.widget-view+json": {
       "model_id": "e77a5a0e257e4c0d940481ef0126d191",
       "version_major": 2,
       "version_minor": 0
      },
      "text/plain": [
       "HBox(children=(FloatProgress(value=0.0, max=250.0), HTML(value='')))"
      ]
     },
     "metadata": {},
     "output_type": "display_data"
    },
    {
     "name": "stdout",
     "output_type": "stream",
     "text": [
      "/Users/fumiyuki/Downloads/kinki-id-2/00102491.csv\n",
      "/Users/fumiyuki/Downloads/kinki-id-2/00102492.csv\n",
      "/Users/fumiyuki/Downloads/kinki-id-2/00102493.csv\n",
      "/Users/fumiyuki/Downloads/kinki-id-2/00102494.csv\n",
      "/Users/fumiyuki/Downloads/kinki-id-2/00102495.csv\n",
      "/Users/fumiyuki/Downloads/kinki-id-2/00102496.csv\n",
      "/Users/fumiyuki/Downloads/kinki-id-2/00102497.csv\n",
      "/Users/fumiyuki/Downloads/kinki-id-2/00102498.csv\n",
      "/Users/fumiyuki/Downloads/kinki-id-2/00102499.csv\n",
      "\n"
     ]
    },
    {
     "data": {
      "application/vnd.jupyter.widget-view+json": {
       "model_id": "a4ba4ccb774748f3babf51e661f6c9dd",
       "version_major": 2,
       "version_minor": 0
      },
      "text/plain": [
       "HBox(children=(FloatProgress(value=0.0, max=250.0), HTML(value='')))"
      ]
     },
     "metadata": {},
     "output_type": "display_data"
    },
    {
     "name": "stdout",
     "output_type": "stream",
     "text": [
      "/Users/fumiyuki/Downloads/kinki-id-2/00102500.csv\n",
      "/Users/fumiyuki/Downloads/kinki-id-2/00102501.csv\n",
      "/Users/fumiyuki/Downloads/kinki-id-2/00102502.csv\n",
      "/Users/fumiyuki/Downloads/kinki-id-2/00102503.csv\n",
      "/Users/fumiyuki/Downloads/kinki-id-2/00102504.csv\n",
      "\n"
     ]
    },
    {
     "data": {
      "application/vnd.jupyter.widget-view+json": {
       "model_id": "6f56db92f28448328bca790cb8f33e2c",
       "version_major": 2,
       "version_minor": 0
      },
      "text/plain": [
       "HBox(children=(FloatProgress(value=0.0, max=250.0), HTML(value='')))"
      ]
     },
     "metadata": {},
     "output_type": "display_data"
    },
    {
     "name": "stdout",
     "output_type": "stream",
     "text": [
      "\n"
     ]
    },
    {
     "data": {
      "application/vnd.jupyter.widget-view+json": {
       "model_id": "56005f1bffbc47faaf26f6504459529f",
       "version_major": 2,
       "version_minor": 0
      },
      "text/plain": [
       "HBox(children=(FloatProgress(value=0.0, max=250.0), HTML(value='')))"
      ]
     },
     "metadata": {},
     "output_type": "display_data"
    },
    {
     "name": "stdout",
     "output_type": "stream",
     "text": [
      "/Users/fumiyuki/Downloads/kinki-id-2/00103082.csv\n",
      "\n"
     ]
    },
    {
     "data": {
      "application/vnd.jupyter.widget-view+json": {
       "model_id": "43cdcf8880f545c7aad796c165db9c04",
       "version_major": 2,
       "version_minor": 0
      },
      "text/plain": [
       "HBox(children=(FloatProgress(value=0.0, max=250.0), HTML(value='')))"
      ]
     },
     "metadata": {},
     "output_type": "display_data"
    },
    {
     "name": "stdout",
     "output_type": "stream",
     "text": [
      "/Users/fumiyuki/Downloads/kinki-id-2/00103260.csv\n",
      "/Users/fumiyuki/Downloads/kinki-id-2/00103286.csv\n",
      "\n"
     ]
    },
    {
     "data": {
      "application/vnd.jupyter.widget-view+json": {
       "model_id": "0c103e5c320f4b0f96a2dca173dd697f",
       "version_major": 2,
       "version_minor": 0
      },
      "text/plain": [
       "HBox(children=(FloatProgress(value=0.0, max=250.0), HTML(value='')))"
      ]
     },
     "metadata": {},
     "output_type": "display_data"
    },
    {
     "name": "stdout",
     "output_type": "stream",
     "text": [
      "\n"
     ]
    },
    {
     "data": {
      "application/vnd.jupyter.widget-view+json": {
       "model_id": "5214db747d5f4205926501a3474676e0",
       "version_major": 2,
       "version_minor": 0
      },
      "text/plain": [
       "HBox(children=(FloatProgress(value=0.0, max=250.0), HTML(value='')))"
      ]
     },
     "metadata": {},
     "output_type": "display_data"
    },
    {
     "name": "stdout",
     "output_type": "stream",
     "text": [
      "/Users/fumiyuki/Downloads/kinki-id-2/00103794.csv\n",
      "/Users/fumiyuki/Downloads/kinki-id-2/00103795.csv\n",
      "/Users/fumiyuki/Downloads/kinki-id-2/00103796.csv\n",
      "/Users/fumiyuki/Downloads/kinki-id-2/00103797.csv\n",
      "/Users/fumiyuki/Downloads/kinki-id-2/00103798.csv\n",
      "/Users/fumiyuki/Downloads/kinki-id-2/00103799.csv\n",
      "/Users/fumiyuki/Downloads/kinki-id-2/00103800.csv\n",
      "/Users/fumiyuki/Downloads/kinki-id-2/00103801.csv\n",
      "/Users/fumiyuki/Downloads/kinki-id-2/00103802.csv\n",
      "/Users/fumiyuki/Downloads/kinki-id-2/00103803.csv\n",
      "/Users/fumiyuki/Downloads/kinki-id-2/00103804.csv\n",
      "/Users/fumiyuki/Downloads/kinki-id-2/00103805.csv\n",
      "/Users/fumiyuki/Downloads/kinki-id-2/00103806.csv\n",
      "/Users/fumiyuki/Downloads/kinki-id-2/00103807.csv\n",
      "/Users/fumiyuki/Downloads/kinki-id-2/00103809.csv\n",
      "/Users/fumiyuki/Downloads/kinki-id-2/00103810.csv\n",
      "/Users/fumiyuki/Downloads/kinki-id-2/00103811.csv\n",
      "/Users/fumiyuki/Downloads/kinki-id-2/00103812.csv\n",
      "/Users/fumiyuki/Downloads/kinki-id-2/00103813.csv\n",
      "/Users/fumiyuki/Downloads/kinki-id-2/00103814.csv\n",
      "/Users/fumiyuki/Downloads/kinki-id-2/00103815.csv\n",
      "/Users/fumiyuki/Downloads/kinki-id-2/00103816.csv\n",
      "\n"
     ]
    },
    {
     "data": {
      "application/vnd.jupyter.widget-view+json": {
       "model_id": "b7a83333f63c41069fbb90ae8a1de25f",
       "version_major": 2,
       "version_minor": 0
      },
      "text/plain": [
       "HBox(children=(FloatProgress(value=0.0, max=250.0), HTML(value='')))"
      ]
     },
     "metadata": {},
     "output_type": "display_data"
    },
    {
     "name": "stdout",
     "output_type": "stream",
     "text": [
      "\n"
     ]
    },
    {
     "data": {
      "application/vnd.jupyter.widget-view+json": {
       "model_id": "bdf49d58f3164d3bb1dd43b80d47ec0f",
       "version_major": 2,
       "version_minor": 0
      },
      "text/plain": [
       "HBox(children=(FloatProgress(value=0.0, max=250.0), HTML(value='')))"
      ]
     },
     "metadata": {},
     "output_type": "display_data"
    },
    {
     "name": "stdout",
     "output_type": "stream",
     "text": [
      "/Users/fumiyuki/Downloads/kinki-id-2/00104398.csv\n",
      "/Users/fumiyuki/Downloads/kinki-id-2/00104401.csv\n",
      "\n"
     ]
    },
    {
     "data": {
      "application/vnd.jupyter.widget-view+json": {
       "model_id": "8bad2471356a4a53a9f4fc26686b8746",
       "version_major": 2,
       "version_minor": 0
      },
      "text/plain": [
       "HBox(children=(FloatProgress(value=0.0, max=250.0), HTML(value='')))"
      ]
     },
     "metadata": {},
     "output_type": "display_data"
    },
    {
     "name": "stdout",
     "output_type": "stream",
     "text": [
      "/Users/fumiyuki/Downloads/kinki-id-2/00104517.csv\n",
      "/Users/fumiyuki/Downloads/kinki-id-2/00104518.csv\n",
      "/Users/fumiyuki/Downloads/kinki-id-2/00104519.csv\n",
      "/Users/fumiyuki/Downloads/kinki-id-2/00104520.csv\n",
      "/Users/fumiyuki/Downloads/kinki-id-2/00104521.csv\n",
      "/Users/fumiyuki/Downloads/kinki-id-2/00104522.csv\n",
      "/Users/fumiyuki/Downloads/kinki-id-2/00104523.csv\n",
      "/Users/fumiyuki/Downloads/kinki-id-2/00104524.csv\n",
      "/Users/fumiyuki/Downloads/kinki-id-2/00104525.csv\n",
      "/Users/fumiyuki/Downloads/kinki-id-2/00104526.csv\n",
      "/Users/fumiyuki/Downloads/kinki-id-2/00104527.csv\n",
      "/Users/fumiyuki/Downloads/kinki-id-2/00104528.csv\n",
      "/Users/fumiyuki/Downloads/kinki-id-2/00104529.csv\n",
      "/Users/fumiyuki/Downloads/kinki-id-2/00104530.csv\n",
      "/Users/fumiyuki/Downloads/kinki-id-2/00104531.csv\n",
      "/Users/fumiyuki/Downloads/kinki-id-2/00104532.csv\n",
      "/Users/fumiyuki/Downloads/kinki-id-2/00104533.csv\n",
      "/Users/fumiyuki/Downloads/kinki-id-2/00104534.csv\n",
      "/Users/fumiyuki/Downloads/kinki-id-2/00104535.csv\n",
      "/Users/fumiyuki/Downloads/kinki-id-2/00104536.csv\n",
      "/Users/fumiyuki/Downloads/kinki-id-2/00104537.csv\n",
      "/Users/fumiyuki/Downloads/kinki-id-2/00104538.csv\n",
      "/Users/fumiyuki/Downloads/kinki-id-2/00104539.csv\n",
      "/Users/fumiyuki/Downloads/kinki-id-2/00104540.csv\n",
      "/Users/fumiyuki/Downloads/kinki-id-2/00104541.csv\n",
      "/Users/fumiyuki/Downloads/kinki-id-2/00104542.csv\n",
      "/Users/fumiyuki/Downloads/kinki-id-2/00104543.csv\n",
      "/Users/fumiyuki/Downloads/kinki-id-2/00104544.csv\n",
      "/Users/fumiyuki/Downloads/kinki-id-2/00104545.csv\n",
      "/Users/fumiyuki/Downloads/kinki-id-2/00104546.csv\n",
      "/Users/fumiyuki/Downloads/kinki-id-2/00104547.csv\n",
      "/Users/fumiyuki/Downloads/kinki-id-2/00104548.csv\n",
      "/Users/fumiyuki/Downloads/kinki-id-2/00104549.csv\n",
      "/Users/fumiyuki/Downloads/kinki-id-2/00104550.csv\n",
      "/Users/fumiyuki/Downloads/kinki-id-2/00104551.csv\n",
      "/Users/fumiyuki/Downloads/kinki-id-2/00104552.csv\n",
      "/Users/fumiyuki/Downloads/kinki-id-2/00104553.csv\n",
      "/Users/fumiyuki/Downloads/kinki-id-2/00104554.csv\n",
      "/Users/fumiyuki/Downloads/kinki-id-2/00104555.csv\n",
      "/Users/fumiyuki/Downloads/kinki-id-2/00104556.csv\n",
      "/Users/fumiyuki/Downloads/kinki-id-2/00104557.csv\n",
      "/Users/fumiyuki/Downloads/kinki-id-2/00104558.csv\n",
      "/Users/fumiyuki/Downloads/kinki-id-2/00104559.csv\n",
      "/Users/fumiyuki/Downloads/kinki-id-2/00104560.csv\n",
      "/Users/fumiyuki/Downloads/kinki-id-2/00104561.csv\n",
      "/Users/fumiyuki/Downloads/kinki-id-2/00104562.csv\n",
      "/Users/fumiyuki/Downloads/kinki-id-2/00104563.csv\n",
      "/Users/fumiyuki/Downloads/kinki-id-2/00104564.csv\n",
      "/Users/fumiyuki/Downloads/kinki-id-2/00104565.csv\n",
      "/Users/fumiyuki/Downloads/kinki-id-2/00104566.csv\n",
      "/Users/fumiyuki/Downloads/kinki-id-2/00104567.csv\n",
      "/Users/fumiyuki/Downloads/kinki-id-2/00104568.csv\n",
      "/Users/fumiyuki/Downloads/kinki-id-2/00104569.csv\n",
      "/Users/fumiyuki/Downloads/kinki-id-2/00104570.csv\n",
      "/Users/fumiyuki/Downloads/kinki-id-2/00104571.csv\n",
      "/Users/fumiyuki/Downloads/kinki-id-2/00104572.csv\n",
      "/Users/fumiyuki/Downloads/kinki-id-2/00104573.csv\n",
      "/Users/fumiyuki/Downloads/kinki-id-2/00104574.csv\n",
      "/Users/fumiyuki/Downloads/kinki-id-2/00104575.csv\n",
      "/Users/fumiyuki/Downloads/kinki-id-2/00104576.csv\n",
      "/Users/fumiyuki/Downloads/kinki-id-2/00104577.csv\n",
      "/Users/fumiyuki/Downloads/kinki-id-2/00104578.csv\n",
      "/Users/fumiyuki/Downloads/kinki-id-2/00104579.csv\n",
      "/Users/fumiyuki/Downloads/kinki-id-2/00104580.csv\n",
      "/Users/fumiyuki/Downloads/kinki-id-2/00104581.csv\n",
      "/Users/fumiyuki/Downloads/kinki-id-2/00104582.csv\n",
      "\n"
     ]
    },
    {
     "data": {
      "application/vnd.jupyter.widget-view+json": {
       "model_id": "536561f287434a8a85e41519d0eb5032",
       "version_major": 2,
       "version_minor": 0
      },
      "text/plain": [
       "HBox(children=(FloatProgress(value=0.0, max=250.0), HTML(value='')))"
      ]
     },
     "metadata": {},
     "output_type": "display_data"
    },
    {
     "name": "stdout",
     "output_type": "stream",
     "text": [
      "\n"
     ]
    },
    {
     "data": {
      "application/vnd.jupyter.widget-view+json": {
       "model_id": "c691c06ae93f4c83bd55c8bcf93ff5d9",
       "version_major": 2,
       "version_minor": 0
      },
      "text/plain": [
       "HBox(children=(FloatProgress(value=0.0, max=250.0), HTML(value='')))"
      ]
     },
     "metadata": {},
     "output_type": "display_data"
    },
    {
     "name": "stdout",
     "output_type": "stream",
     "text": [
      "/Users/fumiyuki/Downloads/kinki-id-2/00105076.csv\n",
      "\n"
     ]
    },
    {
     "data": {
      "application/vnd.jupyter.widget-view+json": {
       "model_id": "a986bfc287bc4d52908c8197af58b4e4",
       "version_major": 2,
       "version_minor": 0
      },
      "text/plain": [
       "HBox(children=(FloatProgress(value=0.0, max=250.0), HTML(value='')))"
      ]
     },
     "metadata": {},
     "output_type": "display_data"
    },
    {
     "name": "stdout",
     "output_type": "stream",
     "text": [
      "/Users/fumiyuki/Downloads/kinki-id-2/00105407.csv\n",
      "/Users/fumiyuki/Downloads/kinki-id-2/00105409.csv\n",
      "/Users/fumiyuki/Downloads/kinki-id-2/00105410.csv\n",
      "\n"
     ]
    },
    {
     "data": {
      "application/vnd.jupyter.widget-view+json": {
       "model_id": "e2508af1ec3c4eabad83fd23e89d331e",
       "version_major": 2,
       "version_minor": 0
      },
      "text/plain": [
       "HBox(children=(FloatProgress(value=0.0, max=250.0), HTML(value='')))"
      ]
     },
     "metadata": {},
     "output_type": "display_data"
    },
    {
     "name": "stdout",
     "output_type": "stream",
     "text": [
      "\n"
     ]
    },
    {
     "data": {
      "application/vnd.jupyter.widget-view+json": {
       "model_id": "64af4f23aeb84585a0b1369fd6bb84f6",
       "version_major": 2,
       "version_minor": 0
      },
      "text/plain": [
       "HBox(children=(FloatProgress(value=0.0, max=250.0), HTML(value='')))"
      ]
     },
     "metadata": {},
     "output_type": "display_data"
    },
    {
     "name": "stdout",
     "output_type": "stream",
     "text": [
      "\n"
     ]
    },
    {
     "data": {
      "application/vnd.jupyter.widget-view+json": {
       "model_id": "e7975122cf2c4837a0c4e749106e25c7",
       "version_major": 2,
       "version_minor": 0
      },
      "text/plain": [
       "HBox(children=(FloatProgress(value=0.0, max=250.0), HTML(value='')))"
      ]
     },
     "metadata": {},
     "output_type": "display_data"
    },
    {
     "name": "stdout",
     "output_type": "stream",
     "text": [
      "/Users/fumiyuki/Downloads/kinki-id-2/00106239.csv\n",
      "\n"
     ]
    },
    {
     "data": {
      "application/vnd.jupyter.widget-view+json": {
       "model_id": "280da935a8044dfcac5abdff9d3ba335",
       "version_major": 2,
       "version_minor": 0
      },
      "text/plain": [
       "HBox(children=(FloatProgress(value=0.0, max=250.0), HTML(value='')))"
      ]
     },
     "metadata": {},
     "output_type": "display_data"
    },
    {
     "name": "stdout",
     "output_type": "stream",
     "text": [
      "/Users/fumiyuki/Downloads/kinki-id-2/00106381.csv\n",
      "/Users/fumiyuki/Downloads/kinki-id-2/00106403.csv\n",
      "\n"
     ]
    },
    {
     "data": {
      "application/vnd.jupyter.widget-view+json": {
       "model_id": "171723b154e341ffa127da2fc044133e",
       "version_major": 2,
       "version_minor": 0
      },
      "text/plain": [
       "HBox(children=(FloatProgress(value=0.0, max=250.0), HTML(value='')))"
      ]
     },
     "metadata": {},
     "output_type": "display_data"
    },
    {
     "name": "stdout",
     "output_type": "stream",
     "text": [
      "/Users/fumiyuki/Downloads/kinki-id-2/00106737.csv\n",
      "\n"
     ]
    },
    {
     "data": {
      "application/vnd.jupyter.widget-view+json": {
       "model_id": "3be9fbd8fbd34d668a0246f1649c4fb3",
       "version_major": 2,
       "version_minor": 0
      },
      "text/plain": [
       "HBox(children=(FloatProgress(value=0.0, max=250.0), HTML(value='')))"
      ]
     },
     "metadata": {},
     "output_type": "display_data"
    },
    {
     "name": "stdout",
     "output_type": "stream",
     "text": [
      "/Users/fumiyuki/Downloads/kinki-id-2/00106835.csv\n",
      "\n"
     ]
    },
    {
     "data": {
      "application/vnd.jupyter.widget-view+json": {
       "model_id": "8ec03704188d41aaa94fa9989e8f9681",
       "version_major": 2,
       "version_minor": 0
      },
      "text/plain": [
       "HBox(children=(FloatProgress(value=0.0, max=250.0), HTML(value='')))"
      ]
     },
     "metadata": {},
     "output_type": "display_data"
    },
    {
     "name": "stdout",
     "output_type": "stream",
     "text": [
      "\n"
     ]
    },
    {
     "data": {
      "application/vnd.jupyter.widget-view+json": {
       "model_id": "4ed51c96eb7c4bd7a8b2c8840e5d53aa",
       "version_major": 2,
       "version_minor": 0
      },
      "text/plain": [
       "HBox(children=(FloatProgress(value=0.0, max=250.0), HTML(value='')))"
      ]
     },
     "metadata": {},
     "output_type": "display_data"
    },
    {
     "name": "stdout",
     "output_type": "stream",
     "text": [
      "/Users/fumiyuki/Downloads/kinki-id-2/00107395.csv\n",
      "\n"
     ]
    },
    {
     "data": {
      "application/vnd.jupyter.widget-view+json": {
       "model_id": "bab54e103ee84b808dd225db0a83aec8",
       "version_major": 2,
       "version_minor": 0
      },
      "text/plain": [
       "HBox(children=(FloatProgress(value=0.0, max=250.0), HTML(value='')))"
      ]
     },
     "metadata": {},
     "output_type": "display_data"
    },
    {
     "name": "stdout",
     "output_type": "stream",
     "text": [
      "\n"
     ]
    },
    {
     "data": {
      "application/vnd.jupyter.widget-view+json": {
       "model_id": "1a5cff7766074bdda601a000a97a9126",
       "version_major": 2,
       "version_minor": 0
      },
      "text/plain": [
       "HBox(children=(FloatProgress(value=0.0, max=250.0), HTML(value='')))"
      ]
     },
     "metadata": {},
     "output_type": "display_data"
    },
    {
     "name": "stdout",
     "output_type": "stream",
     "text": [
      "\n"
     ]
    },
    {
     "data": {
      "application/vnd.jupyter.widget-view+json": {
       "model_id": "647916ce0f9740da81f742e17d9146a4",
       "version_major": 2,
       "version_minor": 0
      },
      "text/plain": [
       "HBox(children=(FloatProgress(value=0.0, max=250.0), HTML(value='')))"
      ]
     },
     "metadata": {},
     "output_type": "display_data"
    },
    {
     "name": "stdout",
     "output_type": "stream",
     "text": [
      "\n"
     ]
    },
    {
     "data": {
      "application/vnd.jupyter.widget-view+json": {
       "model_id": "24dcb492e655482bae5c83607e179588",
       "version_major": 2,
       "version_minor": 0
      },
      "text/plain": [
       "HBox(children=(FloatProgress(value=0.0, max=250.0), HTML(value='')))"
      ]
     },
     "metadata": {},
     "output_type": "display_data"
    },
    {
     "name": "stdout",
     "output_type": "stream",
     "text": [
      "\n"
     ]
    },
    {
     "data": {
      "application/vnd.jupyter.widget-view+json": {
       "model_id": "0e6c0718d47240ef8140459f16956b61",
       "version_major": 2,
       "version_minor": 0
      },
      "text/plain": [
       "HBox(children=(FloatProgress(value=0.0, max=250.0), HTML(value='')))"
      ]
     },
     "metadata": {},
     "output_type": "display_data"
    },
    {
     "name": "stdout",
     "output_type": "stream",
     "text": [
      "\n"
     ]
    },
    {
     "data": {
      "application/vnd.jupyter.widget-view+json": {
       "model_id": "c7f50b9ddccd4e0b8559a58fa0da81d5",
       "version_major": 2,
       "version_minor": 0
      },
      "text/plain": [
       "HBox(children=(FloatProgress(value=0.0, max=250.0), HTML(value='')))"
      ]
     },
     "metadata": {},
     "output_type": "display_data"
    },
    {
     "name": "stdout",
     "output_type": "stream",
     "text": [
      "/Users/fumiyuki/Downloads/kinki-id-2/00108908.csv\n",
      "\n"
     ]
    },
    {
     "data": {
      "application/vnd.jupyter.widget-view+json": {
       "model_id": "4d4dca65649b4a0b8f77654098f0b392",
       "version_major": 2,
       "version_minor": 0
      },
      "text/plain": [
       "HBox(children=(FloatProgress(value=0.0, max=250.0), HTML(value='')))"
      ]
     },
     "metadata": {},
     "output_type": "display_data"
    },
    {
     "name": "stdout",
     "output_type": "stream",
     "text": [
      "/Users/fumiyuki/Downloads/kinki-id-2/00109124.csv\n",
      "\n"
     ]
    },
    {
     "data": {
      "application/vnd.jupyter.widget-view+json": {
       "model_id": "ac2dd3e703f04184a2415687e73c27da",
       "version_major": 2,
       "version_minor": 0
      },
      "text/plain": [
       "HBox(children=(FloatProgress(value=0.0, max=250.0), HTML(value='')))"
      ]
     },
     "metadata": {},
     "output_type": "display_data"
    },
    {
     "name": "stdout",
     "output_type": "stream",
     "text": [
      "/Users/fumiyuki/Downloads/kinki-id-2/00109322.csv\n",
      "/Users/fumiyuki/Downloads/kinki-id-2/00109334.csv\n",
      "\n"
     ]
    },
    {
     "data": {
      "application/vnd.jupyter.widget-view+json": {
       "model_id": "3de3876a45b44e039731a8b768b6a65e",
       "version_major": 2,
       "version_minor": 0
      },
      "text/plain": [
       "HBox(children=(FloatProgress(value=0.0, max=250.0), HTML(value='')))"
      ]
     },
     "metadata": {},
     "output_type": "display_data"
    },
    {
     "name": "stdout",
     "output_type": "stream",
     "text": [
      "\n"
     ]
    },
    {
     "data": {
      "application/vnd.jupyter.widget-view+json": {
       "model_id": "b78454d440e04d249767aa653a9fcb28",
       "version_major": 2,
       "version_minor": 0
      },
      "text/plain": [
       "HBox(children=(FloatProgress(value=0.0, max=250.0), HTML(value='')))"
      ]
     },
     "metadata": {},
     "output_type": "display_data"
    },
    {
     "name": "stdout",
     "output_type": "stream",
     "text": [
      "\n"
     ]
    }
   ],
   "source": [
    "id_data_list = []\n",
    "batch_size = 250\n",
    "current = 0\n",
    "for i in range(2):\n",
    "    for j in range(40):\n",
    "#         transform_from_dir(\"/Users/fumiyuki/Downloads/tokyo-id-%s/data\" % str(i + 2), id_data_list, current, batch_size)\n",
    "        transform_from_dir(\"/Users/fumiyuki/Downloads/kinki-id-%s\" % str(i + 1), id_data_list, current, batch_size)\n",
    "        current += batch_size\n",
    "    current = 0"
   ]
  },
  {
   "cell_type": "code",
   "execution_count": 85,
   "metadata": {},
   "outputs": [],
   "source": [
    "import pickle\n",
    "\n",
    "with open('id_data_list.pickle', 'wb') as f:\n",
    "    pickle.dump(id_data_list, f, pickle.HIGHEST_PROTOCOL)\n",
    "\n",
    "# with open('id_data_list.pickle', 'rb') as f:\n",
    "#     data_list = pickle.load(f)"
   ]
  },
  {
   "cell_type": "code",
   "execution_count": 86,
   "metadata": {},
   "outputs": [],
   "source": [
    "def encode_all_data(data_list, client_limit):\n",
    "    current_id = 0\n",
    "    \n",
    "    json_data = cl.OrderedDict()\n",
    "    same_data = []\n",
    "    total_data_list = []\n",
    "    for i, id_data in tqdm(enumerate(data_list)):\n",
    "        assert(len(id_data) == 1440)\n",
    "        encoded_list = []\n",
    "        for index, row in id_data.iterrows():\n",
    "            encoded_value = encode(row[\"time\"], row[\"lat\"], row[\"long\"]).encode()\n",
    "            encoded_list.append(encoded_value)\n",
    "        value = { \"geodata\": b''.join(encoded_list).hex(), \"query_size\": len(id_data), \"query_id\": current_id }\n",
    "        total_data_list.append(value)\n",
    "        current_id += 1\n",
    "        if current_id == client_limit:\n",
    "            break\n",
    "    \n",
    "    json_data[\"data\"] = total_data_list\n",
    "    json_data[\"client_size\"] = current_id\n",
    "    print(\"client size\", current_id)\n",
    "    \n",
    "    now_timestamp = datetime.datetime.now().strftime(\"%Y%m%d%H%M%S\")\n",
    "    filename = './data/geohash10-client-%s-real-for-1minute-%s.json' % (str(client_limit), now_timestamp)\n",
    "    with open(filename, 'w') as f:\n",
    "        json.dump(json_data, f, indent=None)"
   ]
  },
  {
   "cell_type": "code",
   "execution_count": 94,
   "metadata": {
    "scrolled": true
   },
   "outputs": [
    {
     "name": "stderr",
     "output_type": "stream",
     "text": [
      "<ipython-input-86-380892cf1c6f>:7: TqdmDeprecationWarning: This function will be removed in tqdm==5.0.0\n",
      "Please use `tqdm.notebook.tqdm` instead of `tqdm.tqdm_notebook`\n",
      "  for i, id_data in tqdm(enumerate(data_list)):\n"
     ]
    },
    {
     "data": {
      "application/vnd.jupyter.widget-view+json": {
       "model_id": "dac5d7d67ebf43cdab6214060834a19a",
       "version_major": 2,
       "version_minor": 0
      },
      "text/plain": [
       "HBox(children=(FloatProgress(value=1.0, bar_style='info', max=1.0), HTML(value='')))"
      ]
     },
     "metadata": {},
     "output_type": "display_data"
    },
    {
     "name": "stdout",
     "output_type": "stream",
     "text": [
      "\n",
      "client size 1000\n"
     ]
    }
   ],
   "source": [
    "encode_all_data(id_data_list[10000:], 1000)"
   ]
  },
  {
   "cell_type": "code",
   "execution_count": 93,
   "metadata": {},
   "outputs": [
    {
     "data": {
      "text/plain": [
       "19985"
      ]
     },
     "execution_count": 93,
     "metadata": {},
     "output_type": "execute_result"
    }
   ],
   "source": []
  },
  {
   "cell_type": "code",
   "execution_count": null,
   "metadata": {},
   "outputs": [],
   "source": [
    "# テスト"
   ]
  },
  {
   "cell_type": "code",
   "execution_count": null,
   "metadata": {},
   "outputs": [],
   "source": [
    "trajectory_data = pd.read_csv('./data/output-for-1minute.csv', header=None)\n",
    "trajectory_data = trajectory_data.query('index % 40 == 0')\n",
    "trajectory_data = trajectory_data.drop_duplicates()"
   ]
  },
  {
   "cell_type": "code",
   "execution_count": null,
   "metadata": {},
   "outputs": [],
   "source": [
    "time_tokyo = pd.read_csv(f\"/Users/fumiyuki/Downloads/time-tokyo-1/08TKY_time_0000.csv\", header=None)\n",
    "time_tokyo = time_tokyo.iloc[:, 3:6]\n",
    "time_tokyo.columns = [\"time\", \"long\", \"lat\"]\n",
    "geohash.encode(time_tokyo[\"lat\"][0], time_tokyo[\"long\"][0] , 9)"
   ]
  },
  {
   "cell_type": "code",
   "execution_count": 72,
   "metadata": {},
   "outputs": [],
   "source": [
    "time_tokyo = pd.read_csv(f\"/Users/fumiyuki/Downloads/tokyo-id-2/data/00020042.csv\", header=None)"
   ]
  },
  {
   "cell_type": "code",
   "execution_count": 73,
   "metadata": {
    "scrolled": true
   },
   "outputs": [],
   "source": [
    "time_tokyo = time_tokyo.iloc[:, [3,4,5]]\n",
    "time_tokyo.columns = [\"time\", \"long\", \"lat\"]\n",
    "time_tokyo = time_tokyo.drop_duplicates(subset=[\"time\"])"
   ]
  },
  {
   "cell_type": "code",
   "execution_count": 38,
   "metadata": {},
   "outputs": [],
   "source": [
    "pd.set_option('display.max_rows', 200)"
   ]
  },
  {
   "cell_type": "code",
   "execution_count": 54,
   "metadata": {},
   "outputs": [
    {
     "data": {
      "text/plain": [
       "time    2010-10-01 00:00:00\n",
       "long                135.503\n",
       "lat                  34.799\n",
       "Name: 0, dtype: object"
      ]
     },
     "execution_count": 54,
     "metadata": {},
     "output_type": "execute_result"
    }
   ],
   "source": [
    "time_tokyo.iloc[0]"
   ]
  },
  {
   "cell_type": "code",
   "execution_count": 65,
   "metadata": {},
   "outputs": [],
   "source": [
    "time_tokyo = time_tokyo.append(time_tokyo.iloc[:0])"
   ]
  }
 ],
 "metadata": {
  "kernelspec": {
   "display_name": "Python 3",
   "language": "python",
   "name": "python3"
  },
  "language_info": {
   "codemirror_mode": {
    "name": "ipython",
    "version": 3
   },
   "file_extension": ".py",
   "mimetype": "text/x-python",
   "name": "python",
   "nbconvert_exporter": "python",
   "pygments_lexer": "ipython3",
   "version": "3.8.2"
  }
 },
 "nbformat": 4,
 "nbformat_minor": 4
}
